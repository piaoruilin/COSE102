{
  "cells": [
    {
      "cell_type": "code",
      "execution_count": 27,
      "metadata": {
        "colab": {
          "base_uri": "https://localhost:8080/"
        },
        "id": "ArPB-YtHAX1s",
        "outputId": "1df96b66-e853-4866-9fff-734e816f93d6"
      },
      "outputs": [
        {
          "name": "stdout",
          "output_type": "stream",
          "text": [
            "Liz\n",
            "0\n"
          ]
        }
      ],
      "source": [
        "#Q2\n",
        "\n",
        "import pandas as pd\n",
        "\n",
        "df = pd.read_csv('lecture.csv', engine = 'python')\n",
        "\n",
        "student = input()\n",
        "total = 0\n",
        "num = 0\n",
        "list_student = []\n",
        "\n",
        "cond_name = df['name'] == student\n",
        "df_student = df.loc[cond_name]\n",
        "\n",
        "cond_mid = df['part'] == 'Mid'\n",
        "df_mid = df_student.loc[cond_mid]\n",
        "\n",
        "cond_fin = df['part'] == 'Final'\n",
        "df_final = df_student.loc[cond_fin]\n",
        "\n",
        "df_new = pd.DataFrame(df_student, columns = ['part', 'grade'])\n",
        "\n",
        "df_student.replace(to_replace ='Pass', value = 20, inplace = True)\n",
        "df_student.replace(to_replace ='Fail', value = 0, inplace = True)\n",
        "\n",
        "#for num in range(df_student.shape[0]):\n",
        "  #total = total + (df['grade'][num])\n",
        "\n",
        "print(total)"
      ]
    }
  ],
  "metadata": {
    "colab": {
      "provenance": []
    },
    "kernelspec": {
      "display_name": "base",
      "language": "python",
      "name": "python3"
    },
    "language_info": {
      "name": "python",
      "version": "3.7.6 (default, Jan  8 2020, 13:42:34) \n[Clang 4.0.1 (tags/RELEASE_401/final)]"
    },
    "vscode": {
      "interpreter": {
        "hash": "532ab19ce7265a7cb0ffcebe824f9b4866463c2fe53afda2435929c43d113303"
      }
    }
  },
  "nbformat": 4,
  "nbformat_minor": 0
}
