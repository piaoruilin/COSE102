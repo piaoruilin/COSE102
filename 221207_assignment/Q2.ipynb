{
 "cells": [
  {
   "cell_type": "code",
   "execution_count": null,
   "metadata": {},
   "outputs": [],
   "source": [
    "import time\n",
    "from selenium import webdriver\n",
    "from selenium.webdriver.common.by import By\n",
    "from bs4 import BeautifulSoup\n",
    "\n",
    "specific_options = webdriver.ChromeOptions() \n",
    "specific_options.add_argument('--headless') \n",
    "specific_options.add_argument('--no-sandbox')\n",
    "driver = webdriver.Chrome('chromedriver', options = specific_options)\n",
    "\n",
    "driver.get('https://www.nielsenkorea.co.kr/tv_terrestrial_day.asp?menu= Tit_1&sub_menu=1_1&area=01')\n",
    "time.sleep(1)\n",
    "\n",
    "year_box=driver.find_element(By.NAME,'sYear')\n",
    "\n",
    "year=input()\n",
    "month=int(input())\n",
    "day=int(input())\n",
    "\n",
    "if(month<10): \n",
    "  month='0'+str(month)\n",
    "if(day<10): \n",
    "  day='0'+str(day)\n",
    "\n",
    "month_box=driver.find_element(By.NAME, 'sMonth') \n",
    "day_box=driver.find_element(By.NAME, 'sDay')\n",
    "year_box.send_keys(year) \n",
    "month_box.send_keys(month) \n",
    "day_box.send_keys(day)\n",
    "\n",
    "button_xpath='//*[@id=\"sub_body\"]/table[1]/tbody/tr/td/form/table/tbody /tr/td[2]/img'\n",
    "button=driver.find_element(By.XPATH, button_xpath)\n",
    "button.click()\n",
    "time.sleep(1)\n",
    "\n",
    "soup = BeautifulSoup(driver.page_source, 'html.parser')\n",
    "\n",
    "top=soup.find_all(class_='tb_txt')\n",
    "\n",
    "for i in range(3): \n",
    "  top[i]=top[i].text\n",
    "  top[i]=top[i].strip()\n",
    "\n",
    "for i in range(3):\n",
    "  print(top[i])"
   ]
  },
  {
   "cell_type": "code",
   "execution_count": 1,
   "metadata": {},
   "outputs": [
    {
     "name": "stdout",
     "output_type": "stream",
     "text": [
      "Requirement already satisfied: selenium in /Users/piaoruilin/opt/anaconda3/lib/python3.7/site-packages (4.7.2)\n",
      "Requirement already satisfied: trio-websocket~=0.9 in /Users/piaoruilin/opt/anaconda3/lib/python3.7/site-packages (from selenium) (0.9.2)\n",
      "Requirement already satisfied: trio~=0.17 in /Users/piaoruilin/opt/anaconda3/lib/python3.7/site-packages (from selenium) (0.22.0)\n",
      "Requirement already satisfied: certifi>=2021.10.8 in /Users/piaoruilin/opt/anaconda3/lib/python3.7/site-packages (from selenium) (2022.9.24)\n",
      "Requirement already satisfied: urllib3[socks]~=1.26 in /Users/piaoruilin/opt/anaconda3/lib/python3.7/site-packages (from selenium) (1.26.13)\n",
      "Requirement already satisfied: async-generator>=1.10 in /Users/piaoruilin/opt/anaconda3/lib/python3.7/site-packages (from trio-websocket~=0.9->selenium) (1.10)\n",
      "Requirement already satisfied: wsproto>=0.14 in /Users/piaoruilin/opt/anaconda3/lib/python3.7/site-packages (from trio-websocket~=0.9->selenium) (1.2.0)\n",
      "Requirement already satisfied: exceptiongroup>=1.0.0rc9; python_version < \"3.11\" in /Users/piaoruilin/opt/anaconda3/lib/python3.7/site-packages (from trio~=0.17->selenium) (1.0.4)\n",
      "Requirement already satisfied: sniffio in /Users/piaoruilin/opt/anaconda3/lib/python3.7/site-packages (from trio~=0.17->selenium) (1.3.0)\n",
      "Requirement already satisfied: idna in /Users/piaoruilin/opt/anaconda3/lib/python3.7/site-packages (from trio~=0.17->selenium) (2.10)\n",
      "Requirement already satisfied: sortedcontainers in /Users/piaoruilin/opt/anaconda3/lib/python3.7/site-packages (from trio~=0.17->selenium) (2.2.2)\n",
      "Requirement already satisfied: outcome in /Users/piaoruilin/opt/anaconda3/lib/python3.7/site-packages (from trio~=0.17->selenium) (1.2.0)\n",
      "Requirement already satisfied: attrs>=19.2.0 in /Users/piaoruilin/opt/anaconda3/lib/python3.7/site-packages (from trio~=0.17->selenium) (20.2.0)\n",
      "Requirement already satisfied: PySocks!=1.5.7,<2.0,>=1.5.6; extra == \"socks\" in /Users/piaoruilin/opt/anaconda3/lib/python3.7/site-packages (from urllib3[socks]~=1.26->selenium) (1.7.1)\n",
      "Requirement already satisfied: h11<1,>=0.9.0 in /Users/piaoruilin/opt/anaconda3/lib/python3.7/site-packages (from wsproto>=0.14->trio-websocket~=0.9->selenium) (0.14.0)\n",
      "Requirement already satisfied: typing-extensions; python_version < \"3.8\" in /Users/piaoruilin/opt/anaconda3/lib/python3.7/site-packages (from h11<1,>=0.9.0->wsproto>=0.14->trio-websocket~=0.9->selenium) (4.4.0)\n",
      "zsh:1: command not found: apt-get\n",
      "The operation couldn’t be completed. Unable to locate a Java Runtime.\n",
      "Please visit http://www.java.com for information on installing Java.\n",
      "\n"
     ]
    }
   ],
   "source": [
    "!pip install selenium\n",
    "!apt-get update\n",
    "!apt install chromium-chromedriver"
   ]
  }
 ],
 "metadata": {
  "kernelspec": {
   "display_name": "Python 3.7.6 ('base')",
   "language": "python",
   "name": "python3"
  },
  "language_info": {
   "codemirror_mode": {
    "name": "ipython",
    "version": 3
   },
   "file_extension": ".py",
   "mimetype": "text/x-python",
   "name": "python",
   "nbconvert_exporter": "python",
   "pygments_lexer": "ipython3",
   "version": "3.7.6"
  },
  "orig_nbformat": 4,
  "vscode": {
   "interpreter": {
    "hash": "532ab19ce7265a7cb0ffcebe824f9b4866463c2fe53afda2435929c43d113303"
   }
  }
 },
 "nbformat": 4,
 "nbformat_minor": 2
}
