{
 "cells": [
  {
   "cell_type": "code",
   "execution_count": null,
   "metadata": {},
   "outputs": [],
   "source": [
    "from traitlets.traitlets import Int \n",
    "import requests\n",
    "\n",
    "year=input()\n",
    "month=int(input()) \n",
    "day=int(input())\n",
    "\n",
    "if(month<10):\n",
    "  month='0'+str(month)\n",
    "else: \n",
    "  month=str(month)\n",
    "if(day<10):\n",
    "  day='0'+str(day)\n",
    "else: \n",
    "  day=str(day)\n",
    "\n",
    "day=year+month+day\n",
    "\n",
    "url='https://movie.naver.com/movie/sdb/rank/rmovie.naver?sel=cur&date=' +day\n",
    "header_info = {'UserAgent': 'Mozilla/5.0 (Windows NT 10.0; Win64; x64) AppleWebKit/537.36 (KHTML, like Gecko) Chrome/70.0.3538.102 Safari/537. 36 Edge/18.19582'}\n",
    "page = requests.get(url, headers = header_info) \n",
    "page = page.text\n",
    "\n",
    "from bs4 import BeautifulSoup\n",
    "\n",
    "soup = BeautifulSoup(page, 'html.parser') \n",
    "\n",
    "top_movie=soup.find_all(class_='tit5')\n",
    "top_movie_list=list() \n",
    "\n",
    "for each_data in top_movie:\n",
    "  movie_name=each_data.text \n",
    "  movie_name=movie_name.strip() \n",
    "  top_movie_list.append(movie_name)\n",
    "\n",
    "print(top_movie_list[0])"
   ]
  },
  {
   "cell_type": "code",
   "execution_count": null,
   "metadata": {},
   "outputs": [],
   "source": [
    "!pip install selenium\n",
    "!apt-get update\n",
    "!apt install chromium-chromedriver"
   ]
  }
 ],
 "metadata": {
  "kernelspec": {
   "display_name": "Python 3.7.6 ('base')",
   "language": "python",
   "name": "python3"
  },
  "language_info": {
   "name": "python",
   "version": "3.7.6"
  },
  "orig_nbformat": 4,
  "vscode": {
   "interpreter": {
    "hash": "532ab19ce7265a7cb0ffcebe824f9b4866463c2fe53afda2435929c43d113303"
   }
  }
 },
 "nbformat": 4,
 "nbformat_minor": 2
}
